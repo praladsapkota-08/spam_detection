{
 "cells": [
  {
   "cell_type": "code",
   "execution_count": null,
   "id": "47f0c5fc",
   "metadata": {},
   "outputs": [],
   "source": [
    "import pandas as pd\n",
    "import numpy as np\n",
    "import matplotlib.pyplot as plt\n",
    "import seaborn as sns\n",
    "from nltk.corpus import stopwords\n",
    "from nltk.stem import PorterStemmer\n",
    "import nltk\n",
    "import re\n",
    "\n",
    "from sklearn.linear_model import LogisticRegression\n",
    "from sklearn.svm import SVC\n",
    "from sklearn.naive_bayes import MultinomialNB\n",
    "from sklearn.tree import DecisionTreeClassifier\n",
    "from sklearn.neighbors import KNeighborsClassifier\n",
    "from sklearn.ensemble import RandomForestClassifier\n",
    "from sklearn.ensemble import AdaBoostClassifier\n",
    "from xgboost import XGBClassifier\n",
    "\n",
    "from sklearn.metrics import accuracy_score, precision_score\n",
    "\n",
    "from sklearn.model_selection import train_test_split\n",
    "\n",
    "from sklearn.feature_extraction.text import CountVectorizer , TfidfVectorizer\n",
    "\n",
    "import joblib"
   ]
  },
  {
   "cell_type": "code",
   "execution_count": null,
   "id": "216906f4",
   "metadata": {},
   "outputs": [],
   "source": [
    "file = '..\\\\data\\\\raw\\\\spam.csv'\n",
    "df = pd.read_csv(file, encoding = 'latin1')\n",
    "df\n",
    "s_det = df.copy()"
   ]
  },
  {
   "cell_type": "code",
   "execution_count": null,
   "id": "6dace7a4",
   "metadata": {},
   "outputs": [],
   "source": [
    "s_det.info()"
   ]
  },
  {
   "cell_type": "code",
   "execution_count": null,
   "id": "cc1f55ce",
   "metadata": {},
   "outputs": [],
   "source": [
    "s_det.drop(columns = ['Unnamed: 2', 'Unnamed: 3', 'Unnamed: 4'],axis = 1 , inplace = True)\n",
    "s_det"
   ]
  },
  {
   "cell_type": "code",
   "execution_count": null,
   "id": "08909660",
   "metadata": {},
   "outputs": [],
   "source": [
    "s_det.rename(columns = {'v1' : 'target' , 'v2' : 'text'} , inplace = True)\n",
    "s_det"
   ]
  },
  {
   "cell_type": "code",
   "execution_count": null,
   "id": "0c886070",
   "metadata": {},
   "outputs": [],
   "source": [
    "s_det.isnull().sum()"
   ]
  },
  {
   "cell_type": "code",
   "execution_count": null,
   "id": "ea15804a",
   "metadata": {},
   "outputs": [],
   "source": [
    "s_det.duplicated().sum()"
   ]
  },
  {
   "cell_type": "code",
   "execution_count": null,
   "id": "3abef958",
   "metadata": {},
   "outputs": [],
   "source": [
    "s_det.drop_duplicates(inplace = True)\n",
    "s_det.info()"
   ]
  },
  {
   "cell_type": "code",
   "execution_count": null,
   "id": "60a4d1c5",
   "metadata": {},
   "outputs": [],
   "source": [
    "s_det.to_csv(\"..\\\\data\\\\processed\\\\processed_spam.csv\", index_label= 'sn')"
   ]
  },
  {
   "cell_type": "code",
   "execution_count": null,
   "id": "eb82c4bf",
   "metadata": {},
   "outputs": [],
   "source": [
    "s_det = pd.read_csv(\"..\\\\data\\\\processed\\\\processed_spam.csv\")"
   ]
  },
  {
   "cell_type": "code",
   "execution_count": null,
   "id": "49ea0474",
   "metadata": {},
   "outputs": [],
   "source": [
    "s_det.drop(columns=['sn'], inplace = True)"
   ]
  },
  {
   "cell_type": "code",
   "execution_count": null,
   "id": "69843e48",
   "metadata": {},
   "outputs": [],
   "source": [
    "s_det_1 = s_det.copy()"
   ]
  },
  {
   "cell_type": "code",
   "execution_count": null,
   "id": "89820269",
   "metadata": {},
   "outputs": [],
   "source": [
    "from sklearn.preprocessing import LabelEncoder\n",
    "\n",
    "encoder = LabelEncoder()\n",
    "\n",
    "s_det['target'] = encoder.fit_transform(s_det['target'])\n",
    "s_det\n"
   ]
  },
  {
   "cell_type": "code",
   "execution_count": null,
   "id": "7ecf5eb0",
   "metadata": {},
   "outputs": [],
   "source": [
    "s_det.reset_index(drop= True)\n",
    "s_det"
   ]
  },
  {
   "cell_type": "code",
   "execution_count": null,
   "id": "484510c1",
   "metadata": {},
   "outputs": [],
   "source": [
    "nltk.download('stopwords')\n",
    "words = stopwords.words('english')\n",
    "print(words)"
   ]
  },
  {
   "cell_type": "code",
   "execution_count": null,
   "id": "f8249ae0",
   "metadata": {},
   "outputs": [],
   "source": [
    "s_det"
   ]
  },
  {
   "cell_type": "code",
   "execution_count": null,
   "id": "e63e190e",
   "metadata": {},
   "outputs": [],
   "source": [
    "data = list()\n",
    "\n",
    "for datas in s_det['text']:\n",
    "    temp_ = re.sub('[^a-zA-Z]',' ',datas).lower().split()\n",
    "    if temp_ not in words:\n",
    "        temp__ = data.append([' '.join(temp_)])\n",
    "\n",
    "# print(data)\n",
    "df = pd.DataFrame(data)\n",
    "\n",
    "s_det['text_1'] = df\n",
    "s_det_1['text_1'] = df"
   ]
  },
  {
   "cell_type": "code",
   "execution_count": null,
   "id": "f8b10574",
   "metadata": {},
   "outputs": [],
   "source": [
    "s_det"
   ]
  },
  {
   "cell_type": "code",
   "execution_count": null,
   "id": "663f81dd",
   "metadata": {},
   "outputs": [],
   "source": [
    "from nltk.stem import PorterStemmer\n",
    "\n",
    "stemmer = PorterStemmer()\n",
    "\n",
    "spam_msg = list()\n",
    "\n",
    "\n",
    "for msg in s_det['text_1']:\n",
    "    words = msg.split()\n",
    "    stemmed_word = list()\n",
    "    for word in words:\n",
    "        # stemmed_word = \n",
    "        stemmed_word.append(stemmer.stem(re.sub('[^a-zA-Z]' , '' , word)))\n",
    "    spam_msg.append([' '.join(stemmed_word)])\n",
    "\n",
    "\n",
    "df1 = pd.DataFrame(spam_msg)\n",
    "\n",
    "s_det['text_2'] = df1\n",
    "s_det_1['text_2'] = df1\n",
    "\n",
    "print(df1)"
   ]
  },
  {
   "cell_type": "code",
   "execution_count": null,
   "id": "aeaeb0e9",
   "metadata": {},
   "outputs": [],
   "source": [
    "s_det"
   ]
  },
  {
   "cell_type": "code",
   "execution_count": null,
   "id": "9a0b2358-6175-44cf-a66d-52235b7a1cc4",
   "metadata": {},
   "outputs": [],
   "source": [
    "s_det_1"
   ]
  },
  {
   "cell_type": "code",
   "execution_count": null,
   "id": "94c2b323-7cad-4b1e-b1d4-5278cd8be036",
   "metadata": {},
   "outputs": [],
   "source": [
    "tfid = TfidfVectorizer(max_features = 3000)\n",
    "\n",
    "x = tfid.fit_transform(s_det['text_2']).toarray()\n",
    "y = s_det['target']\n",
    "\n",
    "x_train,x_test,y_train,y_test = train_test_split(x,y,random_state = 2, train_size = 0.8)"
   ]
  },
  {
   "cell_type": "code",
   "execution_count": null,
   "id": "937c9a34-3271-4f8a-9b2f-5e17967fc3ae",
   "metadata": {},
   "outputs": [],
   "source": [
    "svc = SVC(kernel = 'sigmoid', gamma = 1.0)\n",
    "knc = KNeighborsClassifier()\n",
    "mnb = MultinomialNB()\n",
    "dtc = DecisionTreeClassifier(max_depth = 5)\n",
    "lrc = LogisticRegression(solver = 'liblinear', penalty = 'l1')\n",
    "rfc = RandomForestClassifier(n_estimators = 50, random_state = 2)\n",
    "abc = AdaBoostClassifier(n_estimators = 50, random_state = 2)\n",
    "xgb = XGBClassifier(n_estimators = 50, random_state = 2)"
   ]
  },
  {
   "cell_type": "code",
   "execution_count": null,
   "id": "f621d8a9-dc29-4146-82a4-171d40210473",
   "metadata": {},
   "outputs": [],
   "source": [
    "models = {\n",
    "    'SVC' : svc,\n",
    "    'KNN' : knc,\n",
    "    'MNB' : mnb,\n",
    "    'DTC' : dtc,\n",
    "    'LRC' : lrc,\n",
    "    'RFC' : rfc,\n",
    "    'ABC' : abc,\n",
    "    'XGB' : xgb\n",
    "}"
   ]
  },
  {
   "cell_type": "code",
   "execution_count": null,
   "id": "5524e4cd-38f3-4a65-81c6-13efd63698bd",
   "metadata": {},
   "outputs": [],
   "source": [
    "def train_models(model,x_train,y_train,x_test,y_test):\n",
    "    model.fit(x_train,y_train)\n",
    "    y_pred = model.predict(x_test)\n",
    "    accuracy = accuracy_score(y_test,y_pred)\n",
    "    precision = precision_score(y_test,y_pred)\n",
    "    return accuracy , precision"
   ]
  },
  {
   "cell_type": "code",
   "execution_count": null,
   "id": "d0653b64-d9c8-4b75-9f29-8653a9f59918",
   "metadata": {},
   "outputs": [],
   "source": [
    "for name , model in models.items():\n",
    "    current_accuracy , current_precision = train_models(model,x_train,y_train,x_test,y_test)\n",
    "    print('for', name)\n",
    "    print('accuracy score' , current_accuracy)\n",
    "    print('precision score' , current_precision)\n",
    "    \n",
    "    joblib.dump(svc , f\"..\\\\..\\\\spam_detection\\\\model\\\\{name}.joblib\")"
   ]
  },
  {
   "cell_type": "code",
   "execution_count": null,
   "id": "a870e62c-186a-407b-9c37-30fcaa9c3f28",
   "metadata": {},
   "outputs": [],
   "source": [
    "print(nltk.__version__)"
   ]
  },
  {
   "cell_type": "code",
   "execution_count": null,
   "id": "26c94820-bbf3-49c7-a65a-1ef9aefdbda4",
   "metadata": {},
   "outputs": [],
   "source": [
    "print(re.__version__)"
   ]
  },
  {
   "cell_type": "code",
   "execution_count": null,
   "id": "dcc3cab2-dbae-4f08-8340-cc7e412d5774",
   "metadata": {},
   "outputs": [],
   "source": []
  }
 ],
 "metadata": {
  "kernelspec": {
   "display_name": "Python 3 (ipykernel)",
   "language": "python",
   "name": "python3"
  },
  "language_info": {
   "codemirror_mode": {
    "name": "ipython",
    "version": 3
   },
   "file_extension": ".py",
   "mimetype": "text/x-python",
   "name": "python",
   "nbconvert_exporter": "python",
   "pygments_lexer": "ipython3",
   "version": "3.12.3"
  }
 },
 "nbformat": 4,
 "nbformat_minor": 5
}
