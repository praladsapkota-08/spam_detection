{
 "cells": [
  {
   "cell_type": "code",
   "execution_count": null,
   "id": "47f0c5fc",
   "metadata": {},
   "outputs": [],
   "source": [
    "import pandas as pd\n",
    "import numpy as np\n",
    "import matplotlib.pyplot as plt\n",
    "import seaborn as sns\n",
    "from nltk.corpus import stopwords\n",
    "from nltk.stem import PorterStemmer\n",
    "import nltk\n",
    "import re\n",
    "\n"
   ]
  },
  {
   "cell_type": "code",
   "execution_count": null,
   "id": "216906f4",
   "metadata": {},
   "outputs": [],
   "source": [
    "file = '..\\\\data\\\\raw\\\\spam.csv'\n",
    "df = pd.read_csv(file, encoding = 'latin1')\n",
    "df\n",
    "s_det = df.copy()"
   ]
  },
  {
   "cell_type": "code",
   "execution_count": null,
   "id": "6dace7a4",
   "metadata": {},
   "outputs": [],
   "source": [
    "s_det.info()"
   ]
  },
  {
   "cell_type": "code",
   "execution_count": null,
   "id": "cc1f55ce",
   "metadata": {},
   "outputs": [],
   "source": [
    "s_det.drop(columns = ['Unnamed: 2', 'Unnamed: 3', 'Unnamed: 4'],axis = 1 , inplace = True)\n",
    "s_det"
   ]
  },
  {
   "cell_type": "code",
   "execution_count": null,
   "id": "08909660",
   "metadata": {},
   "outputs": [],
   "source": [
    "s_det.rename(columns = {'v1' : 'target' , 'v2' : 'text'} , inplace = True)\n",
    "s_det"
   ]
  },
  {
   "cell_type": "code",
   "execution_count": null,
   "id": "60a4d1c5",
   "metadata": {},
   "outputs": [],
   "source": [
    "s_det.to_csv(\"..\\\\data\\\\processed\\\\processed_spam.csv\")"
   ]
  },
  {
   "cell_type": "code",
   "execution_count": null,
   "id": "89820269",
   "metadata": {},
   "outputs": [],
   "source": [
    "from sklearn.preprocessing import LabelEncoder\n",
    "\n",
    "encoder = LabelEncoder()\n",
    "\n",
    "s_det['target'] = encoder.fit_transform(s_det['target'])\n",
    "s_det\n"
   ]
  },
  {
   "cell_type": "code",
   "execution_count": null,
   "id": "0c886070",
   "metadata": {},
   "outputs": [],
   "source": [
    "s_det.isnull().sum()"
   ]
  },
  {
   "cell_type": "code",
   "execution_count": null,
   "id": "ea15804a",
   "metadata": {},
   "outputs": [],
   "source": [
    "s_det.duplicated().sum()"
   ]
  },
  {
   "cell_type": "code",
   "execution_count": null,
   "id": "3abef958",
   "metadata": {},
   "outputs": [],
   "source": [
    "s_det.drop_duplicates(keep = 'first' , inplace = True)\n",
    "s_det.info()"
   ]
  },
  {
   "cell_type": "code",
   "execution_count": null,
   "id": "484510c1",
   "metadata": {},
   "outputs": [],
   "source": [
    "nltk.download('stopswords')\n",
    "words = stopwords.words('english')\n",
    "print(words)"
   ]
  },
  {
   "cell_type": "code",
   "execution_count": 19,
   "id": "e63e190e",
   "metadata": {},
   "outputs": [
    {
     "name": "stdout",
     "output_type": "stream",
     "text": [
      "5169\n",
      "                                                      0\n",
      "0     go until jurong point crazy available only in ...\n",
      "1                               ok lar joking wif u oni\n",
      "2     free entry in a wkly comp to win fa cup final ...\n",
      "3           u dun say so early hor u c already then say\n",
      "4     nah i don t think he goes to usf he lives arou...\n",
      "...                                                 ...\n",
      "5164  this is the nd time we have tried contact u u ...\n",
      "5165                  will b going to esplanade fr home\n",
      "5166  pity was in mood for that so any other suggest...\n",
      "5167  the guy did some bitching but i acted like i d...\n",
      "5168                          rofl its true to its name\n",
      "\n",
      "[5169 rows x 1 columns]\n"
     ]
    },
    {
     "data": {
      "text/html": [
       "<div>\n",
       "<style scoped>\n",
       "    .dataframe tbody tr th:only-of-type {\n",
       "        vertical-align: middle;\n",
       "    }\n",
       "\n",
       "    .dataframe tbody tr th {\n",
       "        vertical-align: top;\n",
       "    }\n",
       "\n",
       "    .dataframe thead th {\n",
       "        text-align: right;\n",
       "    }\n",
       "</style>\n",
       "<table border=\"1\" class=\"dataframe\">\n",
       "  <thead>\n",
       "    <tr style=\"text-align: right;\">\n",
       "      <th></th>\n",
       "      <th>target</th>\n",
       "      <th>text</th>\n",
       "      <th>text_1</th>\n",
       "    </tr>\n",
       "  </thead>\n",
       "  <tbody>\n",
       "    <tr>\n",
       "      <th>0</th>\n",
       "      <td>0</td>\n",
       "      <td>go until jurong point crazy available only in ...</td>\n",
       "      <td>go until jurong point crazy available only in ...</td>\n",
       "    </tr>\n",
       "    <tr>\n",
       "      <th>1</th>\n",
       "      <td>0</td>\n",
       "      <td>ok lar joking wif u oni</td>\n",
       "      <td>ok lar joking wif u oni</td>\n",
       "    </tr>\n",
       "    <tr>\n",
       "      <th>2</th>\n",
       "      <td>1</td>\n",
       "      <td>free entry in a wkly comp to win fa cup final ...</td>\n",
       "      <td>free entry in a wkly comp to win fa cup final ...</td>\n",
       "    </tr>\n",
       "    <tr>\n",
       "      <th>3</th>\n",
       "      <td>0</td>\n",
       "      <td>u dun say so early hor u c already then say</td>\n",
       "      <td>u dun say so early hor u c already then say</td>\n",
       "    </tr>\n",
       "    <tr>\n",
       "      <th>4</th>\n",
       "      <td>0</td>\n",
       "      <td>nah i don t think he goes to usf he lives arou...</td>\n",
       "      <td>nah i don t think he goes to usf he lives arou...</td>\n",
       "    </tr>\n",
       "    <tr>\n",
       "      <th>...</th>\n",
       "      <td>...</td>\n",
       "      <td>...</td>\n",
       "      <td>...</td>\n",
       "    </tr>\n",
       "    <tr>\n",
       "      <th>5567</th>\n",
       "      <td>1</td>\n",
       "      <td>NaN</td>\n",
       "      <td>NaN</td>\n",
       "    </tr>\n",
       "    <tr>\n",
       "      <th>5568</th>\n",
       "      <td>0</td>\n",
       "      <td>NaN</td>\n",
       "      <td>NaN</td>\n",
       "    </tr>\n",
       "    <tr>\n",
       "      <th>5569</th>\n",
       "      <td>0</td>\n",
       "      <td>NaN</td>\n",
       "      <td>NaN</td>\n",
       "    </tr>\n",
       "    <tr>\n",
       "      <th>5570</th>\n",
       "      <td>0</td>\n",
       "      <td>NaN</td>\n",
       "      <td>NaN</td>\n",
       "    </tr>\n",
       "    <tr>\n",
       "      <th>5571</th>\n",
       "      <td>0</td>\n",
       "      <td>NaN</td>\n",
       "      <td>NaN</td>\n",
       "    </tr>\n",
       "  </tbody>\n",
       "</table>\n",
       "<p>5169 rows × 3 columns</p>\n",
       "</div>"
      ],
      "text/plain": [
       "      target                                               text  \\\n",
       "0          0  go until jurong point crazy available only in ...   \n",
       "1          0                            ok lar joking wif u oni   \n",
       "2          1  free entry in a wkly comp to win fa cup final ...   \n",
       "3          0        u dun say so early hor u c already then say   \n",
       "4          0  nah i don t think he goes to usf he lives arou...   \n",
       "...      ...                                                ...   \n",
       "5567       1                                                NaN   \n",
       "5568       0                                                NaN   \n",
       "5569       0                                                NaN   \n",
       "5570       0                                                NaN   \n",
       "5571       0                                                NaN   \n",
       "\n",
       "                                                 text_1  \n",
       "0     go until jurong point crazy available only in ...  \n",
       "1                               ok lar joking wif u oni  \n",
       "2     free entry in a wkly comp to win fa cup final ...  \n",
       "3           u dun say so early hor u c already then say  \n",
       "4     nah i don t think he goes to usf he lives arou...  \n",
       "...                                                 ...  \n",
       "5567                                                NaN  \n",
       "5568                                                NaN  \n",
       "5569                                                NaN  \n",
       "5570                                                NaN  \n",
       "5571                                                NaN  \n",
       "\n",
       "[5169 rows x 3 columns]"
      ]
     },
     "execution_count": 19,
     "metadata": {},
     "output_type": "execute_result"
    }
   ],
   "source": [
    "data = list()\n",
    "\n",
    "for datas in s_det['text']:\n",
    "    temp_ = re.sub('[^a-zA-Z]',' ',datas).lower().split()\n",
    "    if temp_ not in words:\n",
    "        temp__ = data.append([' '.join(temp_)])\n",
    "\n",
    "print(len(data))\n",
    "df = pd.DataFrame(data)\n",
    "print(df)\n",
    "s_det['text'] = df\n",
    "\n",
    "s_det"
   ]
  },
  {
   "cell_type": "markdown",
   "id": "3992c6aa",
   "metadata": {},
   "source": []
  },
  {
   "cell_type": "code",
   "execution_count": null,
   "id": "f8b10574",
   "metadata": {},
   "outputs": [],
   "source": []
  }
 ],
 "metadata": {
  "kernelspec": {
   "display_name": "regress",
   "language": "python",
   "name": "python3"
  },
  "language_info": {
   "codemirror_mode": {
    "name": "ipython",
    "version": 3
   },
   "file_extension": ".py",
   "mimetype": "text/x-python",
   "name": "python",
   "nbconvert_exporter": "python",
   "pygments_lexer": "ipython3",
   "version": "3.12.3"
  }
 },
 "nbformat": 4,
 "nbformat_minor": 5
}
